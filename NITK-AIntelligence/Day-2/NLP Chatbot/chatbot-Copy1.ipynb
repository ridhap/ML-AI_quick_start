{
 "cells": [
  {
   "cell_type": "code",
   "execution_count": 1,
   "metadata": {
    "colab": {
     "base_uri": "https://localhost:8080/",
     "height": 867
    },
    "colab_type": "code",
    "id": "Pks9K92KprrG",
    "outputId": "3a9991a8-7f08-49a0-e87f-1542becc217c"
   },
   "outputs": [
    {
     "name": "stdout",
     "output_type": "stream",
     "text": [
      "Requirement already satisfied: newspaper3k in c:\\users\\public\\anaconda3\\lib\\site-packages (0.2.8)\n",
      "Requirement already satisfied: lxml>=3.6.0 in c:\\users\\public\\anaconda3\\lib\\site-packages (from newspaper3k) (4.4.1)\n",
      "Requirement already satisfied: beautifulsoup4>=4.4.1 in c:\\users\\public\\anaconda3\\lib\\site-packages (from newspaper3k) (4.8.0)\n",
      "Requirement already satisfied: nltk>=3.2.1 in c:\\users\\public\\anaconda3\\lib\\site-packages (from newspaper3k) (3.4.5)\n",
      "Requirement already satisfied: tinysegmenter==0.3 in c:\\users\\public\\anaconda3\\lib\\site-packages (from newspaper3k) (0.3)\n",
      "Requirement already satisfied: feedparser>=5.2.1 in c:\\users\\public\\anaconda3\\lib\\site-packages (from newspaper3k) (5.2.1)\n",
      "Requirement already satisfied: Pillow>=3.3.0 in c:\\users\\public\\anaconda3\\lib\\site-packages (from newspaper3k) (6.2.0)\n",
      "Requirement already satisfied: tldextract>=2.0.1 in c:\\users\\public\\anaconda3\\lib\\site-packages (from newspaper3k) (2.2.2)\n",
      "Requirement already satisfied: cssselect>=0.9.2 in c:\\users\\public\\anaconda3\\lib\\site-packages (from newspaper3k) (1.1.0)\n",
      "Requirement already satisfied: jieba3k>=0.35.1 in c:\\users\\public\\anaconda3\\lib\\site-packages (from newspaper3k) (0.35.1)\n",
      "Requirement already satisfied: python-dateutil>=2.5.3 in c:\\users\\public\\anaconda3\\lib\\site-packages (from newspaper3k) (2.8.0)\n",
      "Requirement already satisfied: feedfinder2>=0.0.4 in c:\\users\\public\\anaconda3\\lib\\site-packages (from newspaper3k) (0.0.4)\n",
      "Requirement already satisfied: PyYAML>=3.11 in c:\\users\\public\\anaconda3\\lib\\site-packages (from newspaper3k) (5.1.2)\n",
      "Requirement already satisfied: requests>=2.10.0 in c:\\users\\public\\anaconda3\\lib\\site-packages (from newspaper3k) (2.22.0)\n",
      "Requirement already satisfied: soupsieve>=1.2 in c:\\users\\public\\anaconda3\\lib\\site-packages (from beautifulsoup4>=4.4.1->newspaper3k) (1.9.3)\n",
      "Requirement already satisfied: six in c:\\users\\public\\anaconda3\\lib\\site-packages (from nltk>=3.2.1->newspaper3k) (1.12.0)\n",
      "Requirement already satisfied: requests-file>=1.4 in c:\\users\\public\\anaconda3\\lib\\site-packages (from tldextract>=2.0.1->newspaper3k) (1.4.3)\n",
      "Requirement already satisfied: idna in c:\\users\\public\\anaconda3\\lib\\site-packages (from tldextract>=2.0.1->newspaper3k) (2.8)\n",
      "Requirement already satisfied: setuptools in c:\\users\\public\\anaconda3\\lib\\site-packages (from tldextract>=2.0.1->newspaper3k) (41.4.0)\n",
      "Requirement already satisfied: chardet<3.1.0,>=3.0.2 in c:\\users\\public\\anaconda3\\lib\\site-packages (from requests>=2.10.0->newspaper3k) (3.0.4)\n",
      "Requirement already satisfied: urllib3!=1.25.0,!=1.25.1,<1.26,>=1.21.1 in c:\\users\\public\\anaconda3\\lib\\site-packages (from requests>=2.10.0->newspaper3k) (1.24.2)\n",
      "Requirement already satisfied: certifi>=2017.4.17 in c:\\users\\public\\anaconda3\\lib\\site-packages (from requests>=2.10.0->newspaper3k) (2019.9.11)\n",
      "Note: you may need to restart the kernel to use updated packages.\n"
     ]
    }
   ],
   "source": [
    "pip install newspaper3k\n"
   ]
  },
  {
   "cell_type": "code",
   "execution_count": 2,
   "metadata": {
    "colab": {
     "base_uri": "https://localhost:8080/",
     "height": 51
    },
    "colab_type": "code",
    "id": "BO9mkD74pvcl",
    "outputId": "56ba7d05-7e9f-4840-96da-4a993929e657",
    "scrolled": true
   },
   "outputs": [
    {
     "name": "stderr",
     "output_type": "stream",
     "text": [
      "[nltk_data] Downloading package punkt to C:\\Users\\Ridha\n",
      "[nltk_data]     P\\AppData\\Roaming\\nltk_data...\n",
      "[nltk_data]   Package punkt is already up-to-date!\n"
     ]
    }
   ],
   "source": [
    "#import libraries\n",
    "from newspaper import Article\n",
    "import random\n",
    "import string \n",
    "from sklearn.feature_extraction.text import TfidfVectorizer\n",
    "from sklearn.metrics.pairwise import cosine_similarity\n",
    "import nltk\n",
    "import numpy as np\n",
    "import warnings\n",
    "nltk.download('punkt')\n",
    "warnings.filterwarnings('ignore')"
   ]
  },
  {
   "cell_type": "code",
   "execution_count": 3,
   "metadata": {
    "colab": {},
    "colab_type": "code",
    "id": "Ye8gQXY1qG9F"
   },
   "outputs": [
    {
     "ename": "ArticleException",
     "evalue": "Article `download()` failed with HTTPSConnectionPool(host='en.wikipedia.org', port=443): Max retries exceeded with url: /wiki/C_(programming_language) (Caused by ConnectTimeoutError(<urllib3.connection.VerifiedHTTPSConnection object at 0x0000011C9042A348>, 'Connection to en.wikipedia.org timed out. (connect timeout=7)')) on URL https://en.wikipedia.org/wiki/C_(programming_language)",
     "output_type": "error",
     "traceback": [
      "\u001b[1;31m---------------------------------------------------------------------------\u001b[0m",
      "\u001b[1;31mArticleException\u001b[0m                          Traceback (most recent call last)",
      "\u001b[1;32m<ipython-input-3-5bd2cf9d9e6c>\u001b[0m in \u001b[0;36m<module>\u001b[1;34m\u001b[0m\n\u001b[0;32m      2\u001b[0m \u001b[0marticle\u001b[0m \u001b[1;33m=\u001b[0m \u001b[0mArticle\u001b[0m\u001b[1;33m(\u001b[0m\u001b[1;34m'https://en.wikipedia.org/wiki/C_(programming_language)'\u001b[0m\u001b[1;33m)\u001b[0m\u001b[1;33m\u001b[0m\u001b[1;33m\u001b[0m\u001b[0m\n\u001b[0;32m      3\u001b[0m \u001b[0marticle\u001b[0m\u001b[1;33m.\u001b[0m\u001b[0mdownload\u001b[0m\u001b[1;33m(\u001b[0m\u001b[1;33m)\u001b[0m \u001b[1;31m#Download the article\u001b[0m\u001b[1;33m\u001b[0m\u001b[1;33m\u001b[0m\u001b[0m\n\u001b[1;32m----> 4\u001b[1;33m \u001b[0marticle\u001b[0m\u001b[1;33m.\u001b[0m\u001b[0mparse\u001b[0m\u001b[1;33m(\u001b[0m\u001b[1;33m)\u001b[0m \u001b[1;31m#Parse the article\u001b[0m\u001b[1;33m\u001b[0m\u001b[1;33m\u001b[0m\u001b[0m\n\u001b[0m\u001b[0;32m      5\u001b[0m \u001b[0marticle\u001b[0m\u001b[1;33m.\u001b[0m\u001b[0mnlp\u001b[0m\u001b[1;33m(\u001b[0m\u001b[1;33m)\u001b[0m \u001b[1;31m#Apply Natural Language Processing (NLP)\u001b[0m\u001b[1;33m\u001b[0m\u001b[1;33m\u001b[0m\u001b[0m\n\u001b[0;32m      6\u001b[0m \u001b[0mcorpus\u001b[0m \u001b[1;33m=\u001b[0m \u001b[0marticle\u001b[0m\u001b[1;33m.\u001b[0m\u001b[0mtext\u001b[0m \u001b[1;31m#Store the article text into corpus\u001b[0m\u001b[1;33m\u001b[0m\u001b[1;33m\u001b[0m\u001b[0m\n",
      "\u001b[1;32mC:\\Users\\Public\\Anaconda3\\lib\\site-packages\\newspaper\\article.py\u001b[0m in \u001b[0;36mparse\u001b[1;34m(self)\u001b[0m\n\u001b[0;32m    189\u001b[0m \u001b[1;33m\u001b[0m\u001b[0m\n\u001b[0;32m    190\u001b[0m     \u001b[1;32mdef\u001b[0m \u001b[0mparse\u001b[0m\u001b[1;33m(\u001b[0m\u001b[0mself\u001b[0m\u001b[1;33m)\u001b[0m\u001b[1;33m:\u001b[0m\u001b[1;33m\u001b[0m\u001b[1;33m\u001b[0m\u001b[0m\n\u001b[1;32m--> 191\u001b[1;33m         \u001b[0mself\u001b[0m\u001b[1;33m.\u001b[0m\u001b[0mthrow_if_not_downloaded_verbose\u001b[0m\u001b[1;33m(\u001b[0m\u001b[1;33m)\u001b[0m\u001b[1;33m\u001b[0m\u001b[1;33m\u001b[0m\u001b[0m\n\u001b[0m\u001b[0;32m    192\u001b[0m \u001b[1;33m\u001b[0m\u001b[0m\n\u001b[0;32m    193\u001b[0m         \u001b[0mself\u001b[0m\u001b[1;33m.\u001b[0m\u001b[0mdoc\u001b[0m \u001b[1;33m=\u001b[0m \u001b[0mself\u001b[0m\u001b[1;33m.\u001b[0m\u001b[0mconfig\u001b[0m\u001b[1;33m.\u001b[0m\u001b[0mget_parser\u001b[0m\u001b[1;33m(\u001b[0m\u001b[1;33m)\u001b[0m\u001b[1;33m.\u001b[0m\u001b[0mfromstring\u001b[0m\u001b[1;33m(\u001b[0m\u001b[0mself\u001b[0m\u001b[1;33m.\u001b[0m\u001b[0mhtml\u001b[0m\u001b[1;33m)\u001b[0m\u001b[1;33m\u001b[0m\u001b[1;33m\u001b[0m\u001b[0m\n",
      "\u001b[1;32mC:\\Users\\Public\\Anaconda3\\lib\\site-packages\\newspaper\\article.py\u001b[0m in \u001b[0;36mthrow_if_not_downloaded_verbose\u001b[1;34m(self)\u001b[0m\n\u001b[0;32m    530\u001b[0m         \u001b[1;32melif\u001b[0m \u001b[0mself\u001b[0m\u001b[1;33m.\u001b[0m\u001b[0mdownload_state\u001b[0m \u001b[1;33m==\u001b[0m \u001b[0mArticleDownloadState\u001b[0m\u001b[1;33m.\u001b[0m\u001b[0mFAILED_RESPONSE\u001b[0m\u001b[1;33m:\u001b[0m\u001b[1;33m\u001b[0m\u001b[1;33m\u001b[0m\u001b[0m\n\u001b[0;32m    531\u001b[0m             raise ArticleException('Article `download()` failed with %s on URL %s' %\n\u001b[1;32m--> 532\u001b[1;33m                   (self.download_exception_msg, self.url))\n\u001b[0m\u001b[0;32m    533\u001b[0m \u001b[1;33m\u001b[0m\u001b[0m\n\u001b[0;32m    534\u001b[0m     \u001b[1;32mdef\u001b[0m \u001b[0mthrow_if_not_parsed_verbose\u001b[0m\u001b[1;33m(\u001b[0m\u001b[0mself\u001b[0m\u001b[1;33m)\u001b[0m\u001b[1;33m:\u001b[0m\u001b[1;33m\u001b[0m\u001b[1;33m\u001b[0m\u001b[0m\n",
      "\u001b[1;31mArticleException\u001b[0m: Article `download()` failed with HTTPSConnectionPool(host='en.wikipedia.org', port=443): Max retries exceeded with url: /wiki/C_(programming_language) (Caused by ConnectTimeoutError(<urllib3.connection.VerifiedHTTPSConnection object at 0x0000011C9042A348>, 'Connection to en.wikipedia.org timed out. (connect timeout=7)')) on URL https://en.wikipedia.org/wiki/C_(programming_language)"
     ]
    }
   ],
   "source": [
    "#Get the article URL\n",
    "article = Article('https://en.wikipedia.org/wiki/C_(programming_language)')\n",
    "article.download() #Download the article\n",
    "article.parse() #Parse the article\n",
    "article.nlp() #Apply Natural Language Processing (NLP)\n",
    "corpus = article.text #Store the article text into corpus"
   ]
  },
  {
   "cell_type": "code",
   "execution_count": null,
   "metadata": {
    "colab": {},
    "colab_type": "code",
    "id": "myhqM7u8qTXG"
   },
   "outputs": [],
   "source": [
    "print(corpus)"
   ]
  },
  {
   "cell_type": "code",
   "execution_count": null,
   "metadata": {
    "colab": {},
    "colab_type": "code",
    "id": "EaE8EeXhqeyG"
   },
   "outputs": [],
   "source": [
    "#Tokenization\n",
    "text = corpus\n",
    "sent_tokens = nltk.sent_tokenize(text)# txt to a list of sentences"
   ]
  },
  {
   "cell_type": "code",
   "execution_count": null,
   "metadata": {
    "colab": {
     "base_uri": "https://localhost:8080/",
     "height": 54
    },
    "colab_type": "code",
    "id": "1FMh1Ab8qnK2",
    "outputId": "4bd963ec-799a-43e8-8931-d9ec1621076f"
   },
   "outputs": [],
   "source": [
    "#Print the list of sentences\n",
    "print(sent_tokens)"
   ]
  },
  {
   "cell_type": "code",
   "execution_count": null,
   "metadata": {
    "colab": {},
    "colab_type": "code",
    "id": "H3Z1eeiTrAlR"
   },
   "outputs": [],
   "source": [
    "#Create a dictionary (key:value pair) to remove punctuations  \n",
    "remove_punct_dict = dict(  (ord(punct), None) for punct in string.punctuation)"
   ]
  },
  {
   "cell_type": "code",
   "execution_count": null,
   "metadata": {
    "colab": {},
    "colab_type": "code",
    "id": "CxotpPdorGwz"
   },
   "outputs": [],
   "source": [
    "#Create a function to return a list of lemmatized lower case words after removing punctuations \n",
    "def LemNormalize(text):\n",
    "    return nltk.word_tokenize(text.lower().translate(remove_punct_dict))"
   ]
  },
  {
   "cell_type": "code",
   "execution_count": null,
   "metadata": {
    "colab": {},
    "colab_type": "code",
    "id": "dFqLby6Lqvyn"
   },
   "outputs": [],
   "source": [
    "# Keyword Matching\n",
    "#Greeting input from the user\n",
    "GREETING_INPUTS = [\"hi\", \"hello\",  \"hola\", \"greetings\",  \"wassup\",\"hey\"] \n",
    "#Greeting responses back to the user\n",
    "GREETING_RESPONSES = [\"hi \",\"hey \",\"hey\",\"Hello \",\"Hello Human\"]\n",
    "#Function to return a random greeting response to a users greeting\n",
    "def greeting(sentence):\n",
    "   #If user's input is a greeting, return a randomly chosen greeting response\n",
    "    for word in sentence.split():\n",
    "        if word.lower() in GREETING_INPUTS:\n",
    "            return random.choice(GREETING_RESPONSES)"
   ]
  },
  {
   "cell_type": "code",
   "execution_count": null,
   "metadata": {
    "colab": {},
    "colab_type": "code",
    "id": "zeG_hlgfq8V5"
   },
   "outputs": [],
   "source": [
    "# Generating response\n",
    "def response(user_response):\n",
    "    robo_response='' #Create an empty response for the bot\n",
    "    sent_tokens.append(user_response) #Append the users response to the list of sentence tokens\n",
    "    TfidfVec = TfidfVectorizer(tokenizer=LemNormalize, stop_words='english') \n",
    "    tfidf = TfidfVec.fit_transform(sent_tokens)\n",
    "    vals = cosine_similarity(tfidf[-1], tfidf)\n",
    "    idx=vals.argsort()[0][-2]\n",
    "    flat = vals.flatten()\n",
    "    flat.sort()\n",
    "    score = flat[-2]\n",
    "    if(score==0):\n",
    "        robo_response=robo_response+\"I apologize, I don't understand.\"\n",
    "    else:\n",
    "        robo_response = robo_response+sent_tokens[idx]\n",
    "    sent_tokens.remove(user_response) \n",
    "       \n",
    "    return robo_response"
   ]
  },
  {
   "cell_type": "code",
   "execution_count": null,
   "metadata": {
    "colab": {
     "base_uri": "https://localhost:8080/",
     "height": 544
    },
    "colab_type": "code",
    "id": "Hbz77gH4rOi5",
    "outputId": "36c0293a-b34a-4c61-bf9a-641c6fad20c3"
   },
   "outputs": [],
   "source": [
    "flag=True\n",
    "print(\"ChatBot: I am Electronic BOT for short. I will answer your queries about Electronics. If you want to exit, type Bye!\")\n",
    "while(flag==True):\n",
    "    user_response = input()\n",
    "    user_response=user_response.lower()\n",
    "    if(user_response!='bye'):\n",
    "        if(user_response=='thanks' or user_response=='thank you' ):\n",
    "            flag=False\n",
    "            print(\"Bot: You're welcome!, Chat with you later !\")\n",
    "        else:\n",
    "            if(greeting(user_response)!=None):\n",
    "                print(\"Bot: \"+greeting(user_response))\n",
    "            else:\n",
    "                print(\"Bot: \"+response(user_response))\n",
    "    else:\n",
    "        flag=False\n",
    "        print(\"DOCBot: Chat with you later !\")"
   ]
  },
  {
   "cell_type": "code",
   "execution_count": null,
   "metadata": {},
   "outputs": [],
   "source": []
  }
 ],
 "metadata": {
  "colab": {
   "collapsed_sections": [],
   "name": "chatbot.ipynb",
   "provenance": []
  },
  "kernelspec": {
   "display_name": "Python 3",
   "language": "python",
   "name": "python3"
  },
  "language_info": {
   "codemirror_mode": {
    "name": "ipython",
    "version": 3
   },
   "file_extension": ".py",
   "mimetype": "text/x-python",
   "name": "python",
   "nbconvert_exporter": "python",
   "pygments_lexer": "ipython3",
   "version": "3.7.4"
  }
 },
 "nbformat": 4,
 "nbformat_minor": 1
}
