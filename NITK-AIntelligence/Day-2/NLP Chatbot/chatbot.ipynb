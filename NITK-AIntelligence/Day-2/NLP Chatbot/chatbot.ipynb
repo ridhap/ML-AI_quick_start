{
 "cells": [
  {
   "cell_type": "code",
   "execution_count": 1,
   "metadata": {
    "colab": {
     "base_uri": "https://localhost:8080/",
     "height": 51
    },
    "colab_type": "code",
    "id": "xFzH3rUApqGi",
    "outputId": "60453e92-ff91-4687-ef54-66a599e5956f",
    "scrolled": true
   },
   "outputs": [
    {
     "ename": "SyntaxError",
     "evalue": "invalid syntax (<ipython-input-1-2f02a8fe193a>, line 2)",
     "output_type": "error",
     "traceback": [
      "\u001b[1;36m  File \u001b[1;32m\"<ipython-input-1-2f02a8fe193a>\"\u001b[1;36m, line \u001b[1;32m2\u001b[0m\n\u001b[1;33m    pip install nltk\u001b[0m\n\u001b[1;37m              ^\u001b[0m\n\u001b[1;31mSyntaxError\u001b[0m\u001b[1;31m:\u001b[0m invalid syntax\n"
     ]
    }
   ],
   "source": [
    "#install library national language tool kit.\n",
    "pip install nltk\n",
    "\n"
   ]
  },
  {
   "cell_type": "code",
   "execution_count": null,
   "metadata": {
    "colab": {
     "base_uri": "https://localhost:8080/",
     "height": 867
    },
    "colab_type": "code",
    "id": "Pks9K92KprrG",
    "outputId": "3a9991a8-7f08-49a0-e87f-1542becc217c"
   },
   "outputs": [],
   "source": [
    "pip install newspaper3k\n"
   ]
  },
  {
   "cell_type": "code",
   "execution_count": null,
   "metadata": {
    "colab": {
     "base_uri": "https://localhost:8080/",
     "height": 51
    },
    "colab_type": "code",
    "id": "BO9mkD74pvcl",
    "outputId": "56ba7d05-7e9f-4840-96da-4a993929e657",
    "scrolled": true
   },
   "outputs": [],
   "source": [
    "#import libraries\n",
    "from newspaper import Article\n",
    "import random\n",
    "import string \n",
    "from sklearn.feature_extraction.text import TfidfVectorizer\n",
    "from sklearn.metrics.pairwise import cosine_similarity\n",
    "import nltk\n",
    "import numpy as np\n",
    "import warnings\n",
    "nltk.download('punkt')\n",
    "warnings.filterwarnings('ignore')"
   ]
  },
  {
   "cell_type": "code",
   "execution_count": 2,
   "metadata": {
    "colab": {},
    "colab_type": "code",
    "id": "Ye8gQXY1qG9F"
   },
   "outputs": [
    {
     "ename": "NameError",
     "evalue": "name 'Article' is not defined",
     "output_type": "error",
     "traceback": [
      "\u001b[1;31m---------------------------------------------------------------------------\u001b[0m",
      "\u001b[1;31mNameError\u001b[0m                                 Traceback (most recent call last)",
      "\u001b[1;32m<ipython-input-2-5bd2cf9d9e6c>\u001b[0m in \u001b[0;36m<module>\u001b[1;34m\u001b[0m\n\u001b[0;32m      1\u001b[0m \u001b[1;31m#Get the article URL\u001b[0m\u001b[1;33m\u001b[0m\u001b[1;33m\u001b[0m\u001b[1;33m\u001b[0m\u001b[0m\n\u001b[1;32m----> 2\u001b[1;33m \u001b[0marticle\u001b[0m \u001b[1;33m=\u001b[0m \u001b[0mArticle\u001b[0m\u001b[1;33m(\u001b[0m\u001b[1;34m'https://en.wikipedia.org/wiki/C_(programming_language)'\u001b[0m\u001b[1;33m)\u001b[0m\u001b[1;33m\u001b[0m\u001b[1;33m\u001b[0m\u001b[0m\n\u001b[0m\u001b[0;32m      3\u001b[0m \u001b[0marticle\u001b[0m\u001b[1;33m.\u001b[0m\u001b[0mdownload\u001b[0m\u001b[1;33m(\u001b[0m\u001b[1;33m)\u001b[0m \u001b[1;31m#Download the article\u001b[0m\u001b[1;33m\u001b[0m\u001b[1;33m\u001b[0m\u001b[0m\n\u001b[0;32m      4\u001b[0m \u001b[0marticle\u001b[0m\u001b[1;33m.\u001b[0m\u001b[0mparse\u001b[0m\u001b[1;33m(\u001b[0m\u001b[1;33m)\u001b[0m \u001b[1;31m#Parse the article\u001b[0m\u001b[1;33m\u001b[0m\u001b[1;33m\u001b[0m\u001b[0m\n\u001b[0;32m      5\u001b[0m \u001b[0marticle\u001b[0m\u001b[1;33m.\u001b[0m\u001b[0mnlp\u001b[0m\u001b[1;33m(\u001b[0m\u001b[1;33m)\u001b[0m \u001b[1;31m#Apply Natural Language Processing (NLP)\u001b[0m\u001b[1;33m\u001b[0m\u001b[1;33m\u001b[0m\u001b[0m\n",
      "\u001b[1;31mNameError\u001b[0m: name 'Article' is not defined"
     ]
    }
   ],
   "source": [
    "#Get the article URL\n",
    "article = Article('https://en.wikipedia.org/wiki/C_(programming_language)')\n",
    "article.download() #Download the article\n",
    "article.parse() #Parse the article\n",
    "article.nlp() #Apply Natural Language Processing (NLP)\n",
    "corpus = article.text #Store the article text into corpus"
   ]
  },
  {
   "cell_type": "code",
   "execution_count": null,
   "metadata": {
    "colab": {},
    "colab_type": "code",
    "id": "myhqM7u8qTXG"
   },
   "outputs": [],
   "source": [
    "print(corpus)"
   ]
  },
  {
   "cell_type": "code",
   "execution_count": null,
   "metadata": {
    "colab": {},
    "colab_type": "code",
    "id": "EaE8EeXhqeyG"
   },
   "outputs": [],
   "source": [
    "#Tokenization\n",
    "text = corpus\n",
    "sent_tokens = nltk.sent_tokenize(text)# txt to a list of sentences"
   ]
  },
  {
   "cell_type": "code",
   "execution_count": null,
   "metadata": {
    "colab": {
     "base_uri": "https://localhost:8080/",
     "height": 54
    },
    "colab_type": "code",
    "id": "1FMh1Ab8qnK2",
    "outputId": "4bd963ec-799a-43e8-8931-d9ec1621076f"
   },
   "outputs": [],
   "source": [
    "#Print the list of sentences\n",
    "print(sent_tokens)"
   ]
  },
  {
   "cell_type": "code",
   "execution_count": null,
   "metadata": {
    "colab": {},
    "colab_type": "code",
    "id": "H3Z1eeiTrAlR"
   },
   "outputs": [],
   "source": [
    "#Create a dictionary (key:value pair) to remove punctuations  \n",
    "remove_punct_dict = dict(  (ord(punct), None) for punct in string.punctuation)\n",
    "print(remove_punct_dict)"
   ]
  },
  {
   "cell_type": "code",
   "execution_count": null,
   "metadata": {
    "colab": {},
    "colab_type": "code",
    "id": "CxotpPdorGwz"
   },
   "outputs": [],
   "source": [
    "#Create a function to return a list of lemmatized lower case words after removing punctuations \n",
    "def LemNormalize(text):\n",
    "    return nltk.word_tokenize(text.lower().translate(remove_punct_dict))"
   ]
  },
  {
   "cell_type": "code",
   "execution_count": null,
   "metadata": {
    "colab": {},
    "colab_type": "code",
    "id": "dFqLby6Lqvyn"
   },
   "outputs": [],
   "source": [
    "# Keyword Matching\n",
    "#Greeting input from the user\n",
    "GREETING_INPUTS = [\"hi\", \"hello\",  \"hola\", \"greetings\",  \"wassup\",\"hey\",\"namaste\"] \n",
    "#Greeting responses back to the user\n",
    "GREETING_RESPONSES = [\"hi \",\"hey \",\"hey\",\"Hello \",\"Hello Human\"]\n",
    "#Function to return a random greeting response to a users greeting\n",
    "def greeting(sentence):\n",
    "   #If user's input is a greeting, return a randomly chosen greeting response\n",
    "    for word in sentence.split():\n",
    "        if word.lower() in GREETING_INPUTS:\n",
    "            return random.choice(GREETING_RESPONSES)"
   ]
  },
  {
   "cell_type": "code",
   "execution_count": null,
   "metadata": {
    "colab": {},
    "colab_type": "code",
    "id": "zeG_hlgfq8V5"
   },
   "outputs": [],
   "source": [
    "# Generating response\n",
    "def response(user_response):\n",
    "    robo_response='' #Create an empty response for the bot\n",
    "    sent_tokens.append(user_response) #Append the users response to the list of sentence tokens\n",
    "    TfidfVec = TfidfVectorizer(tokenizer=LemNormalize, stop_words='english') \n",
    "    tfidf = TfidfVec.fit_transform(sent_tokens)\n",
    "    vals = cosine_similarity(tfidf[-1], tfidf)\n",
    "    idx=vals.argsort()[0][-2]\n",
    "    flat = vals.flatten()\n",
    "    flat.sort()\n",
    "    score = flat[-2]\n",
    "    if(score==0):\n",
    "        robo_response=robo_response+\"I apologize, I don't understand.\"\n",
    "    else:\n",
    "        robo_response = robo_response+sent_tokens[idx]\n",
    "    sent_tokens.remove(user_response) \n",
    "       \n",
    "    return robo_response"
   ]
  },
  {
   "cell_type": "code",
   "execution_count": null,
   "metadata": {
    "colab": {
     "base_uri": "https://localhost:8080/",
     "height": 544
    },
    "colab_type": "code",
    "id": "Hbz77gH4rOi5",
    "outputId": "36c0293a-b34a-4c61-bf9a-641c6fad20c3",
    "scrolled": false
   },
   "outputs": [],
   "source": [
    "flag=True\n",
    "print(\"ChatBot: I am Electronic BOT for short. I will answer your queries about C Programing. If you want to exit, type Bye!\")\n",
    "while(flag==True):\n",
    "    user_response = input()\n",
    "    user_response=user_response.lower()\n",
    "    if(user_response!='bye'):\n",
    "        if(user_response=='thanks' or user_response=='thank you' ):\n",
    "            flag=False\n",
    "            print(\"Bot: You're welcome!, Chat with you later !\")\n",
    "        else:\n",
    "            if(greeting(user_response)!=None):\n",
    "                print(\"Bot: \"+greeting(user_response))\n",
    "            else:\n",
    "                print(\"Bot: \"+response(user_response))\n",
    "    else:\n",
    "        flag=False\n",
    "        print(\"DOCBot: Chat with you later !\")"
   ]
  },
  {
   "cell_type": "code",
   "execution_count": null,
   "metadata": {},
   "outputs": [],
   "source": []
  },
  {
   "cell_type": "code",
   "execution_count": null,
   "metadata": {},
   "outputs": [],
   "source": []
  }
 ],
 "metadata": {
  "colab": {
   "collapsed_sections": [],
   "name": "chatbot.ipynb",
   "provenance": []
  },
  "kernelspec": {
   "display_name": "Python 3",
   "language": "python",
   "name": "python3"
  },
  "language_info": {
   "codemirror_mode": {
    "name": "ipython",
    "version": 3
   },
   "file_extension": ".py",
   "mimetype": "text/x-python",
   "name": "python",
   "nbconvert_exporter": "python",
   "pygments_lexer": "ipython3",
   "version": "3.7.4"
  }
 },
 "nbformat": 4,
 "nbformat_minor": 1
}
