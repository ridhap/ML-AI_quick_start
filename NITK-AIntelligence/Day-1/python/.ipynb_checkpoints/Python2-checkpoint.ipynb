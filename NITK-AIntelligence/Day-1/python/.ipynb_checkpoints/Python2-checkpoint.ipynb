{
 "cells": [
  {
   "cell_type": "markdown",
   "metadata": {},
   "source": [
    "# Control Statements"
   ]
  },
  {
   "cell_type": "code",
   "execution_count": null,
   "metadata": {},
   "outputs": [],
   "source": [
    "a = 10\n",
    "if a>5:\n",
    "    print('Its greater than 5')\n",
    "else:\n",
    "    print('Its less than 5')"
   ]
  },
  {
   "cell_type": "code",
   "execution_count": null,
   "metadata": {},
   "outputs": [],
   "source": [
    "a,b,c = 3,1,2\n",
    "\n",
    "if a>b:\n",
    "    if a>c:\n",
    "        print('a = %d is greatest' %a)\n",
    "    else:\n",
    "        print('c = %d is greatest' %c)\n",
    "elif b>c:\n",
    "    print('b = %d is greatest' %b)\n",
    "else:\n",
    "    print('c = %d is greatest' %c)"
   ]
  },
  {
   "cell_type": "markdown",
   "metadata": {},
   "source": [
    "# Iterative"
   ]
  },
  {
   "cell_type": "code",
   "execution_count": null,
   "metadata": {},
   "outputs": [],
   "source": [
    "for i in range(10):\n",
    "    print(i)\n",
    "else:\n",
    "    print('i = %d \\nI am in else'%i)"
   ]
  },
  {
   "cell_type": "code",
   "execution_count": null,
   "metadata": {},
   "outputs": [],
   "source": [
    "mylist = ['Aditya', '402', '1736', 'syf', '34.6', 'A']\n",
    "for i in range(len(mylist)):\n",
    "    print('%d : '%i,mylist[i])\n",
    "else:\n",
    "    print('i = %s \\nI am in else'%i)"
   ]
  },
  {
   "cell_type": "code",
   "execution_count": null,
   "metadata": {},
   "outputs": [],
   "source": [
    "print('Enter a number')\n",
    "num = int(input())\n",
    "\n",
    "while num%10:    \n",
    "    print(num%10,end='')\n",
    "    num=int(num/10)\n",
    "else:\n",
    "    print('\\n\\nAbove is the reverse of input number')"
   ]
  },
  {
   "cell_type": "code",
   "execution_count": null,
   "metadata": {},
   "outputs": [],
   "source": []
  }
 ],
 "metadata": {
  "kernelspec": {
   "display_name": "Python 3",
   "language": "python",
   "name": "python3"
  },
  "language_info": {
   "codemirror_mode": {
    "name": "ipython",
    "version": 3
   },
   "file_extension": ".py",
   "mimetype": "text/x-python",
   "name": "python",
   "nbconvert_exporter": "python",
   "pygments_lexer": "ipython3",
   "version": "3.7.4"
  }
 },
 "nbformat": 4,
 "nbformat_minor": 2
}
