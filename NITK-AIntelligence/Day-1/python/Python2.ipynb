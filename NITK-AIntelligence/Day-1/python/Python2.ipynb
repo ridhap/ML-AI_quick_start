{
 "cells": [
  {
   "cell_type": "markdown",
   "metadata": {},
   "source": [
    "# Control Statements"
   ]
  },
  {
   "cell_type": "code",
   "execution_count": 2,
   "metadata": {},
   "outputs": [
    {
     "name": "stdout",
     "output_type": "stream",
     "text": [
      "Its greater than 5\n"
     ]
    }
   ],
   "source": [
    "a = 10\n",
    "if a>5:\n",
    "    print('Its greater than 5')\n",
    "else:\n",
    "    print('Its less than 5')"
   ]
  },
  {
   "cell_type": "code",
   "execution_count": 5,
   "metadata": {},
   "outputs": [
    {
     "name": "stdout",
     "output_type": "stream",
     "text": [
      "a = 3 is greatest\n"
     ]
    }
   ],
   "source": [
    "#program to find the largest number of the three\n",
    "\n",
    "a,b,c = 3,1,2\n",
    "\n",
    "if a>b:\n",
    "    if a>c:\n",
    "        print('a = %d is greatest' %a)\n",
    "    else:\n",
    "        print('c = %d is greatest' %c)\n",
    "elif b>c:\n",
    "    print('b = %d is greatest' %b)\n",
    "else:\n",
    "    print('c = %d is greatest' %c)"
   ]
  },
  {
   "cell_type": "markdown",
   "metadata": {},
   "source": [
    "# Iterative"
   ]
  },
  {
   "cell_type": "code",
   "execution_count": 11,
   "metadata": {
    "scrolled": true
   },
   "outputs": [
    {
     "name": "stdout",
     "output_type": "stream",
     "text": [
      "0\n",
      "2\n",
      "4\n",
      "6\n",
      "8\n",
      "i = 8 \n",
      "I am in else\n"
     ]
    }
   ],
   "source": [
    "for i in range(0,10,2):\n",
    "    print(i)\n",
    "else:\n",
    "    print('i = %d \\nI am in else'%i)"
   ]
  },
  {
   "cell_type": "code",
   "execution_count": 12,
   "metadata": {},
   "outputs": [
    {
     "name": "stdout",
     "output_type": "stream",
     "text": [
      "0 :  Aditya\n",
      "1 :  402\n",
      "2 :  1736\n",
      "3 :  syf\n",
      "4 :  34.6\n",
      "5 :  A\n",
      "i = 5 \n",
      "I am in else\n"
     ]
    }
   ],
   "source": [
    "mylist = ['Aditya', '402', '1736', 'syf', '34.6', 'A']\n",
    "for i in range(len(mylist)):\n",
    "    print('%d : '%i,mylist[i])\n",
    "else:\n",
    "    print('i = %s \\nI am in else'%i)"
   ]
  },
  {
   "cell_type": "code",
   "execution_count": 17,
   "metadata": {},
   "outputs": [
    {
     "name": "stdout",
     "output_type": "stream",
     "text": [
      "Enter a number\n",
      "829\n",
      "928\n",
      "\n",
      "Above is the reverse of input number\n"
     ]
    }
   ],
   "source": [
    "#Reverse The Logic\n",
    "\n",
    "print('Enter a number')\n",
    "num = int(input())\n",
    "\n",
    "while num%10:    \n",
    "    print(num%10,end='')\n",
    "    num=int(num/10)\n",
    "else:\n",
    "    print('\\n\\nAbove is the reverse of input number')"
   ]
  },
  {
   "cell_type": "code",
   "execution_count": null,
   "metadata": {},
   "outputs": [],
   "source": []
  }
 ],
 "metadata": {
  "kernelspec": {
   "display_name": "Python 3",
   "language": "python",
   "name": "python3"
  },
  "language_info": {
   "codemirror_mode": {
    "name": "ipython",
    "version": 3
   },
   "file_extension": ".py",
   "mimetype": "text/x-python",
   "name": "python",
   "nbconvert_exporter": "python",
   "pygments_lexer": "ipython3",
   "version": "3.7.4"
  }
 },
 "nbformat": 4,
 "nbformat_minor": 2
}
