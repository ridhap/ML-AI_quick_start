{
 "cells": [
  {
   "cell_type": "markdown",
   "metadata": {},
   "source": [
    "# Welcome to Python Programming"
   ]
  },
  {
   "cell_type": "markdown",
   "metadata": {},
   "source": [
    "## My First program in python"
   ]
  },
  {
   "cell_type": "code",
   "execution_count": null,
   "metadata": {},
   "outputs": [],
   "source": [
    "print(\"Hello world\")"
   ]
  },
  {
   "cell_type": "markdown",
   "metadata": {},
   "source": [
    "## Integer and String type variables"
   ]
  },
  {
   "cell_type": "code",
   "execution_count": 6,
   "metadata": {},
   "outputs": [
    {
     "name": "stdout",
     "output_type": "stream",
     "text": [
      "10 - I am seperator - 30\n",
      "10 ; 30\n"
     ]
    },
    {
     "data": {
      "text/plain": [
       "int"
      ]
     },
     "execution_count": 6,
     "metadata": {},
     "output_type": "execute_result"
    }
   ],
   "source": [
    "x=10\n",
    "y=3*x\n",
    "print(x,y,sep=\" - I am seperator - \")\n",
    "print(x,y,sep=\" ; \")\n",
    "type(y)"
   ]
  },
  {
   "cell_type": "code",
   "execution_count": 15,
   "metadata": {},
   "outputs": [
    {
     "name": "stdout",
     "output_type": "stream",
     "text": [
      "Techobytes\n",
      "<class 'str'>\n",
      "Python's\n",
      "<class 'str'>\n"
     ]
    }
   ],
   "source": [
    "ch1 = 'Techobytes'#single and double quotes make no difference\n",
    "ch2 = \"Python's\"\n",
    "print(ch1)\n",
    "print(type(ch1))\n",
    "print(ch2)\n",
    "print(type(ch2))"
   ]
  },
  {
   "cell_type": "code",
   "execution_count": 16,
   "metadata": {},
   "outputs": [
    {
     "name": "stdout",
     "output_type": "stream",
     "text": [
      "Techobytes Python's\n"
     ]
    }
   ],
   "source": [
    "ch3 = ch1 +' ' + ch2\n",
    "print(ch3)"
   ]
  },
  {
   "cell_type": "code",
   "execution_count": 18,
   "metadata": {},
   "outputs": [
    {
     "name": "stdout",
     "output_type": "stream",
     "text": [
      "Techobytes Techobytes  Python's Python's Python's Python's \n"
     ]
    }
   ],
   "source": [
    "Ch4 = 2*(ch1+\" \") + \" \" + 4*(ch2 + \" \")\n",
    "print(Ch4)"
   ]
  },
  {
   "cell_type": "code",
   "execution_count": 22,
   "metadata": {},
   "outputs": [
    {
     "name": "stdout",
     "output_type": "stream",
     "text": [
      "2  is  <class 'str'>\n",
      "2  is  <class 'int'>\n",
      "2.0 is <class 'float'>\n"
     ]
    }
   ],
   "source": [
    "ch5 = \"2\"\n",
    "print(ch5, ' is ', type(ch5))\n",
    "z = int(ch5)\n",
    "print(z,' is ',type(z))\n",
    "x=float (z)\n",
    "print(x,'is' ,type(x))"
   ]
  },
  {
   "cell_type": "markdown",
   "metadata": {},
   "source": [
    "## Numerical types\n",
    "#### Integer\n",
    "#### Float\n",
    "#### Complex\n",
    "#### Boolean"
   ]
  },
  {
   "cell_type": "code",
   "execution_count": 24,
   "metadata": {},
   "outputs": [],
   "source": [
    "#Integer\n",
    "a = 9\n",
    "b = 2\n",
    "\n",
    "#Float\n",
    "c = 2.5\n",
    "\n",
    "#Complex\n",
    "d = 5 + 6j"
   ]
  },
  {
   "cell_type": "code",
   "execution_count": 26,
   "metadata": {},
   "outputs": [
    {
     "name": "stdout",
     "output_type": "stream",
     "text": [
      "Adding two integers : 11\n",
      "Multiplying two integers : 18\n",
      "<class 'int'> <class 'int'>\n"
     ]
    }
   ],
   "source": [
    "res_add, res_mul = a+b, a*b\n",
    "\n",
    "print('Adding two integers :', res_add)\n",
    "print('Multiplying two integers :', res_mul)\n",
    "print(type(res_add), type(res_mul))"
   ]
  },
  {
   "cell_type": "code",
   "execution_count": 27,
   "metadata": {},
   "outputs": [
    {
     "name": "stdout",
     "output_type": "stream",
     "text": [
      "Adding a integer and a float : 11.0\n",
      "Multiplying and typecasting to float : 22.5\n",
      "<class 'float'> <class 'float'>\n"
     ]
    }
   ],
   "source": [
    "res_add, res_mul = float(a)+b, float(a*c)\n",
    "\n",
    "print('Adding a integer and a float :', res_add)\n",
    "print('Multiplying and typecasting to float :', res_mul)\n",
    "print(type(res_add), type(res_mul))"
   ]
  },
  {
   "cell_type": "code",
   "execution_count": 31,
   "metadata": {},
   "outputs": [
    {
     "name": "stdout",
     "output_type": "stream",
     "text": [
      "Dividing two integers : 4.5 <class 'float'>\n",
      "Dividing two integers and enforcing result to be integer : -5 <class 'int'>\n"
     ]
    }
   ],
   "source": [
    "res_div1 = a/b\n",
    "print('Dividing two integers :', res_div1,type(res_div1))\n",
    "res_div2 = a//b\n",
    "print('Dividing two integers and enforcing result to be integer :', res_div2,type(res_div2))"
   ]
  },
  {
   "cell_type": "code",
   "execution_count": 29,
   "metadata": {},
   "outputs": [
    {
     "name": "stdout",
     "output_type": "stream",
     "text": [
      "(5+6j)\n",
      "5.0\n",
      "6.0\n",
      "<class 'complex'>\n"
     ]
    }
   ],
   "source": [
    "print(d,d.real,d.imag,sep='\\n')\n",
    "print(type(d))"
   ]
  },
  {
   "cell_type": "code",
   "execution_count": 32,
   "metadata": {},
   "outputs": [
    {
     "name": "stdout",
     "output_type": "stream",
     "text": [
      "(5-6j)\n"
     ]
    }
   ],
   "source": [
    "print(d.conjugate())"
   ]
  },
  {
   "cell_type": "code",
   "execution_count": 33,
   "metadata": {},
   "outputs": [
    {
     "name": "stdout",
     "output_type": "stream",
     "text": [
      "True <class 'bool'>\n"
     ]
    }
   ],
   "source": [
    "res = a > b \n",
    "print(res, type(res))"
   ]
  },
  {
   "cell_type": "code",
   "execution_count": 34,
   "metadata": {},
   "outputs": [
    {
     "name": "stdout",
     "output_type": "stream",
     "text": [
      "False <class 'bool'>\n"
     ]
    }
   ],
   "source": [
    "res = a < b\n",
    "print(res, type(res))"
   ]
  },
  {
   "cell_type": "markdown",
   "metadata": {},
   "source": [
    "## Container kind data types\n",
    "### Lists"
   ]
  },
  {
   "cell_type": "code",
   "execution_count": 35,
   "metadata": {},
   "outputs": [
    {
     "data": {
      "text/plain": [
       "list"
      ]
     },
     "execution_count": 35,
     "metadata": {},
     "output_type": "execute_result"
    }
   ],
   "source": [
    "#Lists\n",
    "\n",
    "cars = ['audi', 'benze', 'volkswagen', 'ford', 'ferrari']\n",
    "type(cars)"
   ]
  },
  {
   "cell_type": "code",
   "execution_count": 36,
   "metadata": {},
   "outputs": [
    {
     "name": "stdout",
     "output_type": "stream",
     "text": [
      "audi ford ferrari benze\n"
     ]
    }
   ],
   "source": [
    "print(cars[0],cars[3],cars[-1],cars[-4])"
   ]
  },
  {
   "cell_type": "code",
   "execution_count": 40,
   "metadata": {},
   "outputs": [
    {
     "data": {
      "text/plain": [
       "['benze', 'volkswagen', 'ford']"
      ]
     },
     "execution_count": 40,
     "metadata": {},
     "output_type": "execute_result"
    }
   ],
   "source": [
    "cars[1:4]"
   ]
  },
  {
   "cell_type": "code",
   "execution_count": 38,
   "metadata": {},
   "outputs": [
    {
     "name": "stdout",
     "output_type": "stream",
     "text": [
      "['audi', 'benze', 'volkswagen', 'ford', 'ferrari', 'Audi']\n"
     ]
    }
   ],
   "source": [
    "cars.append('Audi')\n",
    "print(cars)"
   ]
  },
  {
   "cell_type": "code",
   "execution_count": 42,
   "metadata": {},
   "outputs": [
    {
     "name": "stdout",
     "output_type": "stream",
     "text": [
      "['audi', 'benze', 'volkswagen', 'ford', 'ferrari', 'Audi', 'Delphi', 'Rober bosch', 'Mrcedes', 'BMW', 'DAF', 'General Motors', 'Continental']\n"
     ]
    }
   ],
   "source": [
    "cars.extend(['General Motors', 'Continental'])\n",
    "print(cars)"
   ]
  },
  {
   "cell_type": "code",
   "execution_count": 44,
   "metadata": {},
   "outputs": [
    {
     "name": "stdout",
     "output_type": "stream",
     "text": [
      "['DAF', 'BMW', 'Mrcedes', 'Rober bosch', 'Delphi', 'Continental', 'General Motors', 'DAF', 'BMW', 'Mrcedes', 'Rober bosch', 'Delphi', 'Audi', 'ferrari', 'ford', 'volkswagen', 'benze', 'audi']\n"
     ]
    }
   ],
   "source": [
    "#Reverse of a list\n",
    "cars.reverse()\n",
    "print(cars)"
   ]
  },
  {
   "cell_type": "code",
   "execution_count": 45,
   "metadata": {},
   "outputs": [
    {
     "name": "stdout",
     "output_type": "stream",
     "text": [
      "['DAF', 'BMW', 'Mrcedes', 'Rober bosch', 'Delphi', 'Continental', 'General Motors', 'DAF', 'BMW', 'Mrcedes', 'Rober bosch', 'Delphi', 'Audi', 'ferrari', 'ford', 'volkswagen', 'benze', 'audi', 'Delphi', 'Rober bosch', 'Mrcedes', 'BMW', 'DAF']\n"
     ]
    }
   ],
   "source": [
    "cars2 = ['Delphi', 'Rober bosch', 'Mrcedes', 'BMW', 'DAF']\n",
    "cars = cars + cars2\n",
    "print(cars)"
   ]
  },
  {
   "cell_type": "code",
   "execution_count": 47,
   "metadata": {},
   "outputs": [
    {
     "name": "stdout",
     "output_type": "stream",
     "text": [
      "['Audi', 'BMW', 'BMW', 'BMW', 'Continental', 'DAF', 'DAF', 'DAF', 'Delphi', 'Delphi', 'Delphi', 'General Motors', 'Mrcedes', 'Mrcedes', 'Mrcedes', 'Rober bosch', 'Rober bosch', 'Rober bosch', 'audi', 'benze', 'ferrari', 'ford', 'volkswagen']\n"
     ]
    }
   ],
   "source": [
    "cars.sort()\n",
    "print(cars)"
   ]
  },
  {
   "cell_type": "code",
   "execution_count": null,
   "metadata": {},
   "outputs": [],
   "source": [
    "#List is mutable\n",
    "\n",
    "cars[0] = 'Force Motors'\n",
    "cars[2] = 'Tata Motors'\n",
    "\n",
    "print(cars)"
   ]
  },
  {
   "cell_type": "code",
   "execution_count": 49,
   "metadata": {},
   "outputs": [
    {
     "data": {
      "text/plain": [
       "['Audi',\n",
       " 'BMW',\n",
       " 'BMW',\n",
       " 'BMW',\n",
       " 'Continental',\n",
       " 'DAF',\n",
       " 'DAF',\n",
       " 'DAF',\n",
       " 'Delphi',\n",
       " 'Delphi',\n",
       " 'Delphi',\n",
       " 'General Motors',\n",
       " 'Mrcedes',\n",
       " 'Mrcedes',\n",
       " 'Mrcedes',\n",
       " 'Rober bosch',\n",
       " 'Rober bosch',\n",
       " 'Rober bosch',\n",
       " 'audi',\n",
       " 'benze',\n",
       " 'ferrari',\n",
       " 'ford',\n",
       " 'volkswagen']"
      ]
     },
     "execution_count": 49,
     "metadata": {},
     "output_type": "execute_result"
    }
   ],
   "source": [
    "# Double tap for more commands\n",
    "\n",
    "cars\n"
   ]
  },
  {
   "cell_type": "markdown",
   "metadata": {},
   "source": [
    "### Strings"
   ]
  },
  {
   "cell_type": "code",
   "execution_count": 50,
   "metadata": {
    "scrolled": true
   },
   "outputs": [
    {
     "name": "stdout",
     "output_type": "stream",
     "text": [
      "My program\n"
     ]
    }
   ],
   "source": [
    "# Strings are immutable\n",
    "\n",
    "ch = 'My program'\n",
    "print(ch)"
   ]
  },
  {
   "cell_type": "code",
   "execution_count": 62,
   "metadata": {},
   "outputs": [
    {
     "name": "stdout",
     "output_type": "stream",
     "text": [
      "y\n",
      "gr\n"
     ]
    }
   ],
   "source": [
    "print(ch[1])\n",
    "print(ch[-4:-2])\n"
   ]
  },
  {
   "cell_type": "code",
   "execution_count": 52,
   "metadata": {},
   "outputs": [
    {
     "ename": "TypeError",
     "evalue": "'str' object does not support item assignment",
     "output_type": "error",
     "traceback": [
      "\u001b[1;31m---------------------------------------------------------------------------\u001b[0m",
      "\u001b[1;31mTypeError\u001b[0m                                 Traceback (most recent call last)",
      "\u001b[1;32m<ipython-input-52-9d96f72ff38b>\u001b[0m in \u001b[0;36m<module>\u001b[1;34m\u001b[0m\n\u001b[1;32m----> 1\u001b[1;33m \u001b[0mch\u001b[0m\u001b[1;33m[\u001b[0m\u001b[1;36m4\u001b[0m\u001b[1;33m]\u001b[0m \u001b[1;33m=\u001b[0m \u001b[1;34m'p'\u001b[0m\u001b[1;33m\u001b[0m\u001b[1;33m\u001b[0m\u001b[0m\n\u001b[0m",
      "\u001b[1;31mTypeError\u001b[0m: 'str' object does not support item assignment"
     ]
    }
   ],
   "source": [
    "ch[4] = 'p'"
   ]
  },
  {
   "cell_type": "code",
   "execution_count": 69,
   "metadata": {},
   "outputs": [],
   "source": [
    "#press double tab to see all the applicable methods\n",
    "                        \n",
    "ch.casefold?"
   ]
  },
  {
   "cell_type": "code",
   "execution_count": 63,
   "metadata": {},
   "outputs": [
    {
     "name": "stdout",
     "output_type": "stream",
     "text": [
      "My program is 400.000000 kilometers away from Hyderabad\n"
     ]
    }
   ],
   "source": [
    "mystr = '%s is %f kilometers away from %s' %(ch, 400, 'Hyderabad')\n",
    "print(mystr)"
   ]
  },
  {
   "cell_type": "markdown",
   "metadata": {},
   "source": [
    "### Dictionaries"
   ]
  },
  {
   "cell_type": "code",
   "execution_count": 70,
   "metadata": {},
   "outputs": [],
   "source": [
    "pincode = {'Nagole': 500064, 'DSNR': 500068}\n",
    "pincode['Gachibowli'] = 500032"
   ]
  },
  {
   "cell_type": "code",
   "execution_count": 66,
   "metadata": {},
   "outputs": [
    {
     "name": "stdout",
     "output_type": "stream",
     "text": [
      "{'Nagole': 500064, 'DSNR': 500068, 'Gachibowli': 500032}\n"
     ]
    }
   ],
   "source": [
    "print(pincode)"
   ]
  },
  {
   "cell_type": "code",
   "execution_count": 71,
   "metadata": {},
   "outputs": [
    {
     "name": "stdout",
     "output_type": "stream",
     "text": [
      "dict_values([500064, 500068, 500032])\n",
      "dict_keys(['Nagole', 'DSNR', 'Gachibowli'])\n"
     ]
    }
   ],
   "source": [
    "print(pincode.values())\n",
    "print(pincode.keys())"
   ]
  },
  {
   "cell_type": "code",
   "execution_count": 68,
   "metadata": {},
   "outputs": [
    {
     "data": {
      "text/plain": [
       "{'Nagole': 500064, 'DSNR': 500068, 'Gachibowli': 500032}"
      ]
     },
     "execution_count": 68,
     "metadata": {},
     "output_type": "execute_result"
    }
   ],
   "source": [
    "#double tap for more commands\n",
    "\n",
    "pincode"
   ]
  },
  {
   "cell_type": "markdown",
   "metadata": {},
   "source": [
    "### Tuples"
   ]
  },
  {
   "cell_type": "code",
   "execution_count": 72,
   "metadata": {},
   "outputs": [
    {
     "name": "stdout",
     "output_type": "stream",
     "text": [
      "<class 'tuple'>\n"
     ]
    }
   ],
   "source": [
    "tup1 = 'hello' , 'world', 25 , 24.09, True\n",
    "print(type(tup1))"
   ]
  },
  {
   "cell_type": "code",
   "execution_count": 73,
   "metadata": {},
   "outputs": [
    {
     "name": "stdout",
     "output_type": "stream",
     "text": [
      "(24, 23.09, 'hyderabad', 'Vijayawada', False)\n"
     ]
    }
   ],
   "source": [
    "#tuples are ordeered\n",
    "tup2 = (24,23.09,'hyderabad','Vijayawada',False )\n",
    "print(tup2)"
   ]
  },
  {
   "cell_type": "code",
   "execution_count": 74,
   "metadata": {},
   "outputs": [
    {
     "ename": "TypeError",
     "evalue": "'tuple' object does not support item assignment",
     "output_type": "error",
     "traceback": [
      "\u001b[1;31m---------------------------------------------------------------------------\u001b[0m",
      "\u001b[1;31mTypeError\u001b[0m                                 Traceback (most recent call last)",
      "\u001b[1;32m<ipython-input-74-aa18e4a2026d>\u001b[0m in \u001b[0;36m<module>\u001b[1;34m\u001b[0m\n\u001b[0;32m      1\u001b[0m \u001b[1;31m# tuples is immuratble\u001b[0m\u001b[1;33m\u001b[0m\u001b[1;33m\u001b[0m\u001b[1;33m\u001b[0m\u001b[0m\n\u001b[1;32m----> 2\u001b[1;33m \u001b[0mtup2\u001b[0m\u001b[1;33m[\u001b[0m\u001b[1;36m1\u001b[0m\u001b[1;33m]\u001b[0m\u001b[1;33m=\u001b[0m\u001b[1;34m'hi'\u001b[0m\u001b[1;33m\u001b[0m\u001b[1;33m\u001b[0m\u001b[0m\n\u001b[0m",
      "\u001b[1;31mTypeError\u001b[0m: 'tuple' object does not support item assignment"
     ]
    }
   ],
   "source": [
    "# tuples is immuratble\n",
    "tup2[1]='hi'"
   ]
  },
  {
   "cell_type": "code",
   "execution_count": 75,
   "metadata": {},
   "outputs": [
    {
     "data": {
      "text/plain": [
       "(24, 23.09, 'hyderabad', 'Vijayawada', False)"
      ]
     },
     "execution_count": 75,
     "metadata": {},
     "output_type": "execute_result"
    }
   ],
   "source": [
    "# Double tab for more functions\n",
    "\n",
    "tup2"
   ]
  },
  {
   "cell_type": "markdown",
   "metadata": {},
   "source": [
    "### Sets"
   ]
  },
  {
   "cell_type": "code",
   "execution_count": 79,
   "metadata": {},
   "outputs": [
    {
     "name": "stdout",
     "output_type": "stream",
     "text": [
      "{'c', 'e', 'b', 'a', 'd'}\n",
      "{'g', 'e', 'f', 'h', 'd'}\n"
     ]
    }
   ],
   "source": [
    "#Unordered unique list\n",
    "set1 = { 'a', 'b', 'c', 'd', 'e', 'a', 'b'}\n",
    "set2 = set(('d', 'e', 'f', 'g', 'h'))\n",
    "\n",
    "print(set1)\n",
    "print(set2)"
   ]
  },
  {
   "cell_type": "code",
   "execution_count": 77,
   "metadata": {
    "scrolled": true
   },
   "outputs": [
    {
     "name": "stdout",
     "output_type": "stream",
     "text": [
      "Union of sets :  {'c', 'g', 'e', 'f', 'b', 'h', 'a', 'd'}\n",
      "Intersection of sets : {'e', 'd'}\n",
      "Disjoint of sets : {'b', 'c', 'a'}\n"
     ]
    }
   ],
   "source": [
    "print('Union of sets : ', set1.union(set2))\n",
    "print('Intersection of sets :', set1.intersection(set2))\n",
    "print('Disjoint of sets :', set1.difference(set2))"
   ]
  },
  {
   "cell_type": "code",
   "execution_count": 78,
   "metadata": {},
   "outputs": [
    {
     "data": {
      "text/plain": [
       "{'a', 'b', 'c', 'd', 'e'}"
      ]
     },
     "execution_count": 78,
     "metadata": {},
     "output_type": "execute_result"
    }
   ],
   "source": [
    "# Double tap for more methods\n",
    "\n",
    "set1"
   ]
  },
  {
   "cell_type": "code",
   "execution_count": null,
   "metadata": {},
   "outputs": [],
   "source": []
  }
 ],
 "metadata": {
  "kernelspec": {
   "display_name": "Python 3",
   "language": "python",
   "name": "python3"
  },
  "language_info": {
   "codemirror_mode": {
    "name": "ipython",
    "version": 3
   },
   "file_extension": ".py",
   "mimetype": "text/x-python",
   "name": "python",
   "nbconvert_exporter": "python",
   "pygments_lexer": "ipython3",
   "version": "3.7.4"
  }
 },
 "nbformat": 4,
 "nbformat_minor": 2
}
